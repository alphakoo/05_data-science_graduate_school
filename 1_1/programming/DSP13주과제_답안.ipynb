{
 "cells": [
  {
   "cell_type": "markdown",
   "metadata": {},
   "source": [
    "## [HW#1] 위 프로그램에서 Customer ID가 5000 이상이면서, Sale Amout가 2000 이상인 행만 필터링"
   ]
  },
  {
   "cell_type": "code",
   "execution_count": 7,
   "metadata": {},
   "outputs": [],
   "source": [
    "# Sol)\n",
    "import sys\n",
    "from datetime import date\n",
    "from xlrd import open_workbook, xldate_as_tuple\n",
    "from xlwt import Workbook\n",
    "\n",
    "input_file = 'c:\\Temp\\sales_2013.xls'\n",
    "output_file = 'c:\\Temp\\Sol1.xls'\n",
    "\n",
    "output_workbook = Workbook()\n",
    "output_worksheet = output_workbook.add_sheet('April_2013_filtered')\n",
    "\n",
    "\n",
    "sale_amount_column_index = 3\n",
    "customer_id_column_index = 0\n",
    "\n",
    "with open_workbook(input_file) as workbook:\n",
    "    worksheet = workbook.sheet_by_name('April_2013')\n",
    "    data = []\n",
    "    header = worksheet.row_values(0)\n",
    "    data.append(header)\n",
    "    for row_index in range(1,worksheet.nrows):\n",
    "            row_list = []\n",
    "            customer_id = worksheet.cell_value(row_index, customer_id_column_index)\n",
    "            sale_amount = worksheet.cell_value(row_index, sale_amount_column_index)\n",
    "            if customer_id > 5000 and sale_amount >=2000.0:\n",
    "                for column_index in range(worksheet.ncols):\n",
    "                    cell_value = worksheet.cell_value(row_index,column_index)\n",
    "                    cell_type = worksheet.cell_type(row_index, column_index)\n",
    "                    if cell_type == 3:\n",
    "                        date_cell = xldate_as_tuple(cell_value,workbook.datemode)\n",
    "                        date_cell = date(*date_cell[0:3]).strftime('%m/%d/%Y')\n",
    "                        row_list.append(date_cell)\n",
    "                    else:\n",
    "                        row_list.append(cell_value)\n",
    "            if row_list:\n",
    "                data.append(row_list)\n",
    "\n",
    "    for list_index, output_list in enumerate(data):\n",
    "        for element_index, element in enumerate(output_list):\n",
    "            output_worksheet.write(list_index, element_index, element)\n",
    "\n",
    "output_workbook.save(output_file)"
   ]
  },
  {
   "cell_type": "markdown",
   "metadata": {},
   "source": [
    "## [HW#2] 위의 프로그램에서 아래 코드가 필요한 이유는?\n",
    "#####\tfor list_index, output_list in enumerate(data):\n",
    "#####\t\tfor element_index, element in enumerate(output_list):\n",
    "#####\t\t\toutput_worksheet.write(list_index, element_index, element)"
   ]
  },
  {
   "cell_type": "markdown",
   "metadata": {},
   "source": [
    "Sol) 주어진 조건에 따라서, 추출된 행들을 담고있는 data 리스트를 \n",
    "출력 엑셀 파일의 새로운 sheet 상에 첫번째 행부터 행과 열에 빈칸없이 차례대로 기록하기 위함"
   ]
  },
  {
   "cell_type": "markdown",
   "metadata": {},
   "source": [
    "## [HW#3] 위의 프로그램에서 invoice number가 100-0016, 100-0017인 행만 필터링"
   ]
  },
  {
   "cell_type": "code",
   "execution_count": 2,
   "metadata": {},
   "outputs": [],
   "source": [
    "# Sol)\n",
    "import sys\n",
    "from datetime import date\n",
    "from xlrd import open_workbook, xldate_as_tuple\n",
    "from xlwt import Workbook\n",
    "\n",
    "input_file = 'c:\\Temp\\sales_2013.xls'\n",
    "output_file = 'c:\\Temp\\sol3.xls'\n",
    "\n",
    "output_workbook = Workbook()\n",
    "output_worksheet = output_workbook.add_sheet('jan_2013_output')\n",
    "\n",
    "important_numbers = ['100-0016', '100-0017']\n",
    "\n",
    "invoice_number_column_index = 2\n",
    "with open_workbook(input_file) as workbook:\n",
    "    worksheet = workbook.sheet_by_name('march_2013')\n",
    "    data = []\n",
    "    header = worksheet.row_values(0)\n",
    "    data.append(header)\n",
    "    for row_index in range(1, worksheet.nrows):\n",
    "        invoice_number = worksheet.cell_value(row_index, invoice_number_column_index)\n",
    "        row_list = []\n",
    "        if invoice_number in important_numbers:\n",
    "            for column_index in range(worksheet.ncols):\n",
    "                cell_value = worksheet.cell_value(row_index,column_index)\n",
    "                cell_type = worksheet.cell_type(row_index, column_index)\n",
    "                if cell_type == 3:\n",
    "                    date_cell = xldate_as_tuple(cell_value,workbook.datemode)\n",
    "                    date_cell = date(*date_cell[0:3]).strftime('%m/%d/%Y')\n",
    "                    row_list.append(date_cell)\n",
    "                else:\n",
    "                    row_list.append(cell_value)\n",
    "        if row_list:\n",
    "            data.append(row_list)\n",
    "\n",
    "    for list_index, output_list in enumerate(data):\n",
    "        for element_index, element in enumerate(output_list):\n",
    "            output_worksheet.write(list_index, element_index, element)\n",
    "\n",
    "output_workbook.save(output_file)"
   ]
  },
  {
   "cell_type": "markdown",
   "metadata": {},
   "source": [
    "## [HW#4] 위의 프로그램에서 모든 워크시트의 invoice number가 100-0015이상이면서, Sale Amount가 2000 이상인 행만 필터링하기"
   ]
  },
  {
   "cell_type": "code",
   "execution_count": 3,
   "metadata": {},
   "outputs": [],
   "source": [
    "# Sol)\n",
    "import sys\n",
    "from datetime import date\n",
    "from xlrd import open_workbook, xldate_as_tuple\n",
    "from xlwt import Workbook\n",
    "\n",
    "input_file = 'c:\\Temp\\sales_2013.xls'\n",
    "output_file = 'c:\\Temp\\sol4.xls'\n",
    "\n",
    "output_workbook = Workbook()\n",
    "output_worksheet = output_workbook.add_sheet('filtered_rows_all_worksheets')\n",
    "\n",
    "invoice_id_column_index = 2\n",
    "sale_amount_column_index = 3\n",
    "\n",
    "first_worksheet = True\n",
    "with open_workbook(input_file) as workbook:\n",
    "    data = []\n",
    "    for worksheet in workbook.sheets():\n",
    "        if first_worksheet:\n",
    "            header_row = worksheet.row_values(0)\n",
    "            data.append(header_row)\n",
    "            first_worksheet = False\n",
    "        for row_index in range(1,worksheet.nrows):\n",
    "            row_list = []\n",
    "            invoice_id = worksheet.cell_value(row_index, invoice_id_column_index)\n",
    "            invoice_id = int(str(invoice_id).replace('-', ''))\n",
    "            sale_amount = worksheet.cell_value(row_index, sale_amount_column_index)\n",
    "            sale_amount = float(str(sale_amount).replace('$', '').replace(',', ''))\n",
    "            if invoice_id > 1000015 and sale_amount > 2000 :\n",
    "                for column_index in range(worksheet.ncols):\n",
    "                    cell_value = worksheet.cell_value(row_index,column_index)\n",
    "                    cell_type = worksheet.cell_type(row_index,column_index)\n",
    "                    if cell_type == 3:\n",
    "                        date_cell = xldate_as_tuple(cell_value,workbook.datemode)\n",
    "                        date_cell = date(*date_cell[0:3]).strftime('%Y/%m/%d')\n",
    "                        row_list.append(date_cell)\n",
    "                    else:\n",
    "                        row_list.append(cell_value)\n",
    "            if row_list:\n",
    "                data.append(row_list)\n",
    "\n",
    "    for list_index, output_list in enumerate(data):\n",
    "        for element_index, element in enumerate(output_list):\n",
    "            output_worksheet.write(list_index, element_index, element)\n",
    "\n",
    "output_workbook.save(output_file)"
   ]
  }
 ],
 "metadata": {
  "kernelspec": {
   "display_name": "Python 3 (ipykernel)",
   "language": "python",
   "name": "python3"
  },
  "language_info": {
   "codemirror_mode": {
    "name": "ipython",
    "version": 3
   },
   "file_extension": ".py",
   "mimetype": "text/x-python",
   "name": "python",
   "nbconvert_exporter": "python",
   "pygments_lexer": "ipython3",
   "version": "3.9.7"
  }
 },
 "nbformat": 4,
 "nbformat_minor": 4
}
