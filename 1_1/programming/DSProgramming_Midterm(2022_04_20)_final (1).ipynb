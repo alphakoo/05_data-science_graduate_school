{
  "cells": [
    {
      "cell_type": "markdown",
      "metadata": {
        "id": "HwyvSzA6a_qi"
      },
      "source": [
        "# 1. 두 개의 리스트를 입력으로 전달 받고 동일한 항목의 개수를 반환하는 함수를 이용하는 프로그램을 작성하시오. (10점)\n",
        "## 실행 예) print(common_data([1, 2, 3, 4, 5], [1, 2, 3]))\n",
        "##               3"
      ]
    },
    {
      "cell_type": "code",
      "execution_count": null,
      "metadata": {
        "colab": {
          "base_uri": "https://localhost:8080/"
        },
        "id": "9eIS6SPia_qo",
        "outputId": "4bf078eb-bef4-40bf-e723-c795a939faa7"
      },
      "outputs": [
        {
          "output_type": "stream",
          "name": "stdout",
          "text": [
            "Input Count of list_A >>> 5\n",
            "Input Count of list_B >>> 3\n",
            "Item of list_A >>> 1\n",
            "Item of list_A >>> 2\n",
            "Item of list_A >>> 3\n",
            "Item of list_A >>> 4\n",
            "Item of list_A >>> 5\n",
            "Item of list_B >>> 1\n",
            "Item of list_B >>> 2\n",
            "Item of list_B >>> 3\n",
            "list_a: [1, 2, 3, 4, 5]\n",
            "list_b: [1, 2, 3]\n",
            "Common data Count is 3\n"
          ]
        }
      ],
      "source": [
        "# 두 리스트의 공통 값의 개수를 리턴\n",
        "def common_data(list_a, list_b):\n",
        "\n",
        "  cnt = 0\n",
        "\n",
        "  for x in list_a:\n",
        "\n",
        "    if x in list_b:\n",
        "\n",
        "      cnt += 1\n",
        "  \n",
        "  return cnt\n",
        "\n",
        "# 두 리스트의 길이 입력\n",
        "cnt_a = int(input('Input Count of list_A >>> '))\n",
        "\n",
        "cnt_b = int(input('Input Count of list_B >>> '))\n",
        "\n",
        "\n",
        "list_a = []\n",
        "\n",
        "list_b = []\n",
        "\n",
        "# list_a 의 원소 입력 받기\n",
        "for x in range(cnt_a):\n",
        "\n",
        "  tmp = int(input('Item of list_A >>> '))\n",
        "\n",
        "  list_a.append(tmp)\n",
        "\n",
        "\n",
        "# list_b 의 원소 입력 받기\n",
        "for x in range(cnt_b):\n",
        "\n",
        "  tmp = int(input('Item of list_B >>> '))\n",
        "\n",
        "  list_b.append(tmp)    \n",
        "\n",
        "print('list_a:', list_a)\n",
        "\n",
        "print('list_b:', list_b)\n",
        "\n",
        "\n",
        "print('Common data Count is', common_data(list_a, list_b))"
      ]
    },
    {
      "cell_type": "markdown",
      "metadata": {
        "id": "oXkUoKEza_qp"
      },
      "source": [
        "# 2. 사용자로부터 길이, 너비, 높이를 실수 값으로 입력 받아서, 상자의 부피를 구하는 함수를 이용하는 프로그램을 작성하시오. (10점)"
      ]
    },
    {
      "cell_type": "code",
      "execution_count": null,
      "metadata": {
        "colab": {
          "base_uri": "https://localhost:8080/"
        },
        "id": "WE1Euc4ua_qq",
        "outputId": "a20c0e4e-aa07-477e-e051-71484fdcfdb4"
      },
      "outputs": [
        {
          "output_type": "stream",
          "name": "stdout",
          "text": [
            "Input length >>> 10\n",
            "Input width >>> 10\n",
            "Input height >>> 10\n",
            "result: 1000.0\n"
          ]
        }
      ],
      "source": [
        "def get_result():\n",
        "\n",
        "  length = float(input('Input length >>> '))\n",
        "\n",
        "  width = float(input('Input width >>> '))\n",
        "\n",
        "  height = float(input('Input height >>> '))\n",
        "\n",
        "  return length * width * height\n",
        "\n",
        "\n",
        "print('result:', get_result())"
      ]
    },
    {
      "cell_type": "markdown",
      "metadata": {
        "id": "i8yLMYhla_qq"
      },
      "source": [
        "# 3. 커피 자판기에서 거스름 동전의 개수를 구하는 프로그램을 작성하시오. (15점)\n",
        "### 커피 값은 250원으로 설정하며, 커피자판기는 사용자로부터 금액과 커피 개수를 입력받고, 100원, 50원, 10원 짜리 동전들로 거슬러 주는 것을 가정한다. "
      ]
    },
    {
      "cell_type": "code",
      "execution_count": null,
      "metadata": {
        "colab": {
          "base_uri": "https://localhost:8080/"
        },
        "id": "J0dqq5t-a_qr",
        "outputId": "babd3c4c-1d6b-4d23-9b8f-efa26bf8d06d"
      },
      "outputs": [
        {
          "output_type": "stream",
          "name": "stdout",
          "text": [
            "Input User Money >>> 1210\n",
            "Input Coffee Count >>> 3\n",
            "Count of coin 100 won 4\n",
            "Count of coin 50 won 1\n",
            "Count of coin 10 won 1\n"
          ]
        }
      ],
      "source": [
        "# 커피값 250원\n",
        "coffee_price = 250\n",
        "\n",
        "# 사용자가 입력한 돈\n",
        "user_money = int(input('Input User Money >>> '))\n",
        "\n",
        "# 구입한 커피 개수\n",
        "coffee_cnt = int(input('Input Coffee Count >>> '))\n",
        "\n",
        "# print('user_money:', user_money)\n",
        "\n",
        "# print('coffee_cnt:', coffee_cnt)\n",
        "\n",
        "# 거스름 돈\n",
        "remain_money = user_money - (coffee_cnt * coffee_price)\n",
        "\n",
        "# print(remain_money)\n",
        "\n",
        "# 100원 거스름 돈의 개수\n",
        "remain_100 = remain_money // 100\n",
        "\n",
        "remain_money = remain_money % 100\n",
        "\n",
        "# 50원 거스름 돈의 개수\n",
        "remain_50 = remain_money // 50\n",
        "\n",
        "remain_money = remain_money % 50\n",
        "\n",
        "# 10원 거스름 돈의 개수\n",
        "remain_10 = remain_money // 10\n",
        "\n",
        "remain_money = remain_money % 10\n",
        "\n",
        "\n",
        "print('Count of coin 100 won', remain_100)\n",
        "\n",
        "print('Count of coin 50 won', remain_50)\n",
        "\n",
        "print('Count of coin 10 won', remain_10)\n"
      ]
    },
    {
      "cell_type": "markdown",
      "metadata": {
        "id": "UKpzzxXQa_qr"
      },
      "source": [
        "# 4. 정수들로 구성된 리스트를 입력받고 리스트 항목들의 평균 값을 반환하는 함수를 이용하는 프로그램을 작성하시오. (10점)"
      ]
    },
    {
      "cell_type": "code",
      "execution_count": null,
      "metadata": {
        "colab": {
          "base_uri": "https://localhost:8080/"
        },
        "id": "oFLpsX00a_qs",
        "outputId": "ac6f1b53-ed4f-4e3e-9ad1-62792d6dc7ec"
      },
      "outputs": [
        {
          "output_type": "stream",
          "name": "stdout",
          "text": [
            "How many numbers? >>> 5\n",
            "1\n",
            "2\n",
            "3\n",
            "4\n",
            "5\n",
            "Average is 3.0.\n"
          ]
        }
      ],
      "source": [
        "def get_average():\n",
        "\n",
        "  # 리스트의 길이\n",
        "  cnt = int(input('How many numbers? >>> '))\n",
        "\n",
        "  num_list = list()\n",
        "\n",
        "  for x in range(cnt):\n",
        "\n",
        "    # 리스트 아이템 입력 받기\n",
        "    tmp = int(input())\n",
        "\n",
        "    num_list.append(tmp)\n",
        "\n",
        "  # print(num_list)  \n",
        "\n",
        "  sum = 0\n",
        "\n",
        "  for y in num_list:\n",
        "    \n",
        "    sum += y\n",
        "\n",
        "  # 리스트 총합의 평균\n",
        "  average = sum / cnt    \n",
        "\n",
        "  return average\n",
        "\n",
        "\n",
        "print(f'Average is {get_average()}.')"
      ]
    },
    {
      "cell_type": "markdown",
      "metadata": {
        "id": "avQhYvSIa_qs"
      },
      "source": [
        "# 5. 1부터 100까지의 자연수 중에서 3의 배수이면서 동시에 5의 배수인 숫자를 출력하는 프로그램을 작성하시오. (10점)"
      ]
    },
    {
      "cell_type": "code",
      "execution_count": null,
      "metadata": {
        "colab": {
          "base_uri": "https://localhost:8080/"
        },
        "id": "vXK88VVPa_qt",
        "outputId": "6cf6a61a-f08e-42d6-b23b-2296291455f3"
      },
      "outputs": [
        {
          "output_type": "stream",
          "name": "stdout",
          "text": [
            "15\n",
            "30\n",
            "45\n",
            "60\n",
            "75\n",
            "90\n"
          ]
        }
      ],
      "source": [
        "list_a = list(range(1,101))\n",
        "\n",
        "# print(list_a)\n",
        "\n",
        "for x in list_a:\n",
        "\n",
        "  if x % 3 == 0 and x % 5 == 0:\n",
        "\n",
        "    print(x)"
      ]
    },
    {
      "cell_type": "markdown",
      "metadata": {
        "id": "vssPskf7a_qu"
      },
      "source": [
        "# 6. 반복문을 사용하여 1부터 10사이의 임의의 정수 10개로 구성되는 리스트를 생성하고, 리스트 항목들의 총합을 구하는 프로그램을 작성하시오. (15점)"
      ]
    },
    {
      "cell_type": "code",
      "execution_count": null,
      "metadata": {
        "colab": {
          "base_uri": "https://localhost:8080/"
        },
        "id": "MxjUqYMBa_qu",
        "outputId": "2524a8d3-8ce8-4b60-bf1b-96074831793b"
      },
      "outputs": [
        {
          "output_type": "stream",
          "name": "stdout",
          "text": [
            "[5, 10, 3, 1, 2, 9, 4, 10, 6, 7]\n",
            "Sum of num_list is 57.\n"
          ]
        }
      ],
      "source": [
        "import random as rnd\n",
        "\n",
        "num_list = []\n",
        "\n",
        "for x in range(10):\n",
        "  \n",
        "  # 1~10사이의 정수 생성하고 리스트에 append\n",
        "  num_list.append(rnd.randint(1,10))\n",
        "\n",
        "print(num_list)  \n",
        "\n",
        "sum = 0\n",
        "\n",
        "# 리스트의 총합\n",
        "for x in num_list:\n",
        "\n",
        "  sum += x\n",
        "\n",
        "print(f'Sum of num_list is {sum}.')  "
      ]
    },
    {
      "cell_type": "markdown",
      "metadata": {
        "id": "6UJPTd1Wa_qu"
      },
      "source": [
        "# 7. 사용자로부터 중간고사와 기말고사 성적을 입력받고, 그 평균이 90점 이상이면 'A학점', 80점 이상이면 'B학점', 나머지는 'F학점'을 출력하는 프로그램을 작성하시오. (10점)"
      ]
    },
    {
      "cell_type": "code",
      "execution_count": null,
      "metadata": {
        "colab": {
          "base_uri": "https://localhost:8080/"
        },
        "id": "MGy2w-Bxa_qv",
        "outputId": "20b3a1ea-2c7d-4190-c3f7-82bcd95640d5"
      },
      "outputs": [
        {
          "output_type": "stream",
          "name": "stdout",
          "text": [
            "Input mid test result >>> 70\n",
            "Input final test result >>> 60\n",
            "F학점\n"
          ]
        }
      ],
      "source": [
        "mid_res = float(input('Input mid test result >>> '))\n",
        "\n",
        "final_res = float(input('Input final test result >>> '))\n",
        "\n",
        "# 두 성적의 평균\n",
        "ave_res = (mid_res + final_res) / 2\n",
        "\n",
        "if ave_res >= 90:\n",
        "\n",
        "  print('A학점')\n",
        "\n",
        "elif ave_res >= 80:\n",
        "\n",
        "  print('B학점')\n",
        "\n",
        "else:\n",
        "\n",
        "  print('F학점')"
      ]
    },
    {
      "cell_type": "markdown",
      "metadata": {
        "id": "QPS8jKQZa_qv"
      },
      "source": [
        "# 8. 사용자로부터 두 정수를 입력받고, 두 정수 사이의 소수(prime number)를 찾아서 출력하는 프로그램을 작성하시오. (20점)\n",
        "### 실행 예)\n",
        "### start = 10\n",
        "### end = 20\n",
        "### Prime numbers between 10 and 20 are: 11, 13, 17, 19"
      ]
    },
    {
      "cell_type": "code",
      "source": [
        "num_start = int(input('Input Start number >>> '))\n",
        "\n",
        "num_end = int(input('Input End number >>> '))\n",
        "\n",
        "res_list = []\n",
        "\n",
        "# stat = True로 설정하고\n",
        "# \n",
        "for x in range(num_start, num_end+1):\n",
        "\n",
        "  stat = True\n",
        "\n",
        "  for y in range(2, x):\n",
        "\n",
        "    # 1과 자신 외에 나누어 떨어지는 수가 있는지 확인\n",
        "    if x % y == 0:\n",
        "\n",
        "      stat = False                  # 나누어 떨어지는 수가 있으면 소수 아님!\n",
        "      break\n",
        "\n",
        "  # 1을 제외하기 위해서\n",
        "  if stat == True and x != 1:\n",
        "\n",
        "    res_list.append(x)    \n",
        "\n",
        "print(f'Prime numbers between {num_start} and {num_end} are: {res_list}.')  "
      ],
      "metadata": {
        "colab": {
          "base_uri": "https://localhost:8080/"
        },
        "id": "64ulT2SCgd_E",
        "outputId": "a9f73ac6-b5b0-4fa0-c066-4a94313e7663"
      },
      "execution_count": null,
      "outputs": [
        {
          "output_type": "stream",
          "name": "stdout",
          "text": [
            "Input Start number >>> 1\n",
            "Input End number >>> 100\n",
            "Prime numbers between 1 and 100 are: [2, 3, 5, 7, 11, 13, 17, 19, 23, 29, 31, 37, 41, 43, 47, 53, 59, 61, 67, 71, 73, 79, 83, 89, 97].\n"
          ]
        }
      ]
    },
    {
      "cell_type": "code",
      "source": [
        ""
      ],
      "metadata": {
        "id": "NEA5INrNjbP8"
      },
      "execution_count": null,
      "outputs": []
    }
  ],
  "metadata": {
    "kernelspec": {
      "display_name": "Python 3",
      "language": "python",
      "name": "python3"
    },
    "language_info": {
      "codemirror_mode": {
        "name": "ipython",
        "version": 3
      },
      "file_extension": ".py",
      "mimetype": "text/x-python",
      "name": "python",
      "nbconvert_exporter": "python",
      "pygments_lexer": "ipython3",
      "version": "3.8.3"
    },
    "colab": {
      "name": "DSProgramming_Midterm(2022.04.20)_final.ipynb",
      "provenance": []
    }
  },
  "nbformat": 4,
  "nbformat_minor": 0
}