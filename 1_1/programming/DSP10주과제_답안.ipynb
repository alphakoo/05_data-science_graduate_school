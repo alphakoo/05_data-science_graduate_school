{
 "cells": [
  {
   "cell_type": "markdown",
   "id": "89412a17",
   "metadata": {},
   "source": [
    "## 1.Find the total cost and average price for the parts supplied by 'Suppiler X', 'Suppiler Y' and 'Suppiler Z' in the file supplier_data.csv."
   ]
  },
  {
   "cell_type": "code",
   "execution_count": 15,
   "id": "d83caf1b",
   "metadata": {},
   "outputs": [
    {
     "name": "stdout",
     "output_type": "stream",
     "text": [
      "Supplier X >> total_cost:2500.0, average_price:625.0\n",
      "Supplier Y >> total_cost:750.0, average_price:187.5\n",
      "Supplier X >> total_cost:2460.0, average_price:615.0\n"
     ]
    }
   ],
   "source": [
    "#Sol)\n",
    "\n",
    "import csv\n",
    "\n",
    "supplier_data = [['Supplier X', 0, 0],\n",
    "                 ['Supplier Y',0,0],\n",
    "                 ['Supplier Z', 0, 0]]\n",
    "\n",
    "with open('c:\\Temp\\supplier_data.csv', 'r') as csv_in_file:\n",
    "    file_reader = csv.reader(csv_in_file, delimiter=',')\n",
    "    header = next(file_reader)\n",
    "          \n",
    "    for row in file_reader:\n",
    "        supplier = row[0].strip()\n",
    "        cost = float(row[3].strip('$').replace(',', ''))\n",
    "        if supplier == 'Supplier X':\n",
    "            supplier_data[0][1] += 1\n",
    "            supplier_data[0][2] += cost\n",
    "        elif supplier == 'Supplier Y':\n",
    "            supplier_data[1][1] += 1\n",
    "            supplier_data[1][2] += cost\n",
    "        elif supplier == 'Supplier Z':\n",
    "            supplier_data[2][1] += 1\n",
    "            supplier_data[2][2] += cost                \n",
    "\n",
    "print(f'Supplier X >> total_cost:{supplier_data[0][2]}, average_price:{supplier_data[0][2]/supplier_data[0][1]}')\n",
    "print(f'Supplier Y >> total_cost:{supplier_data[1][2]}, average_price:{supplier_data[1][2]/supplier_data[1][1]}')\n",
    "print(f'Supplier X >> total_cost:{supplier_data[2][2]}, average_price:{supplier_data[2][2]/supplier_data[2][1]}')"
   ]
  },
  {
   "cell_type": "markdown",
   "id": "7c24d3de",
   "metadata": {},
   "source": [
    "## 2.Find the Move Title with the highest score and the Movie Title with the lowest score from the deniro.csv file."
   ]
  },
  {
   "cell_type": "code",
   "execution_count": 26,
   "id": "5a1238ef",
   "metadata": {},
   "outputs": [
    {
     "name": "stdout",
     "output_type": "stream",
     "text": [
      "score_list >> [86.0, 17.0, 73.0, 40.0, 98.0, 88.0, 97.0, 41.0, 99.0, 47.0, 67.0, 93.0, 97.0, 75.0, 90.0, 89.0, 60.0, 98.0, 65.0, 100.0, 80.0, 78.0, 96.0, 64.0, 47.0, 88.0, 29.0, 96.0, 76.0, 69.0, 65.0, 71.0, 87.0, 67.0, 75.0, 78.0, 96.0, 39.0, 80.0, 86.0, 74.0, 38.0, 80.0, 85.0, 87.0, 72.0, 68.0, 38.0, 69.0, 43.0, 43.0, 84.0, 41.0, 73.0, 33.0, 48.0, 27.0, 4.0, 35.0, 38.0, 4.0, 46.0, 13.0, 54.0, 21.0, 76.0, 19.0, 51.0, 46.0, 72.0, 10.0, 50.0, 25.0, 7.0, 70.0, 92.0, 51.0, 29.0, 46.0, 7.0, 29.0, 11.0, 9.0, 60.0, 26.0, 61.0, 11.0]\n",
      "Highest Score of Deniro Movie >> 100.0\n",
      "Lowest Score of Deniro Movie >> 4.0\n"
     ]
    }
   ],
   "source": [
    "#Sol)\n",
    "import csv\n",
    "\n",
    "score_list = []\n",
    "\n",
    "with open('c:\\Temp\\deniro.csv', 'r', newline='') as movie_file:\n",
    "    file_reader = csv.reader(movie_file, delimiter=',')\n",
    "    header = next(file_reader)\n",
    "\n",
    "    for row in file_reader:\n",
    "        if not row:          \n",
    "            break\n",
    "        else:\n",
    "            score = float(row[1].strip())  \n",
    "            score_list.append(score)\n",
    "\n",
    "print(f'score_list >> {score_list}')   \n",
    "score_list.sort() \n",
    "print(f'Highest Score of Deniro Movie >> {score_list[-1]}')\n",
    "print(f'Lowest Score of Deniro Movie >> {score_list[0]}')"
   ]
  },
  {
   "cell_type": "markdown",
   "id": "598b3747",
   "metadata": {},
   "source": [
    "## 3.When was the best year for 'Robert De Niro'? "
   ]
  },
  {
   "cell_type": "code",
   "execution_count": 28,
   "id": "01509a42",
   "metadata": {},
   "outputs": [
    {
     "name": "stdout",
     "output_type": "stream",
     "text": [
      "{'2003': 4.0, '2014': 9.0, '2005': 21.0, '2013': 23.25, '2011': 34.0, '2008': 35.0, '2004': 36.5, '2002': 37.5, '1994': 39.0, '1971': 40.0, '2010': 44.0, '1970': 45.0, '2009': 46.0, '2007': 48.5, '2015': 49.0, '1998': 53.0, '2001': 53.0, '2006': 54.0, '1989': 55.5, '1999': 56.0, '2000': 56.0, '1977': 57.0, '2012': 57.333333333333336, '1996': 64.0, '1986': 65.0, '1976': 70.0, '1991': 70.25, '1990': 71.0, '1984': 74.5, '1981': 75.0, '1992': 77.0, '1997': 81.33333333333333, '1993': 83.0, '1995': 83.0, '1968': 86.0, '1987': 86.0, '1983': 90.0, '1973': 93.0, '1978': 93.0, '1988': 96.0, '1974': 97.0, '1980': 97.0, '1985': 98.0}\n",
      "high score: 1985\n"
     ]
    }
   ],
   "source": [
    "# Sol)\n",
    "def scoredata(score, year,score_data):\n",
    "    avg = sum(score) / len(score)\n",
    "    score_data[year] = avg\n",
    "    \n",
    "def result_year(filereader,score_data):\n",
    "    year = None\n",
    "    score = list()\n",
    "    for row in filereader:\n",
    "        if row:\n",
    "            if row[0] != year and year != None:\n",
    "                scoredata(score, year,score_data)\n",
    "                score.clear()\n",
    "                score.append(int(row[1]))\n",
    "            else:\n",
    "                score.append(int(row[1]))\n",
    "            year = row[0].strip()\n",
    "            \n",
    "score_data = {}\n",
    "with open('c:\\Temp\\deniro.csv', 'r', newline='') as csv_in_file:\n",
    "    filereader = csv.reader(csv_in_file)\n",
    "    header = next(filereader)\n",
    "        \n",
    "    result_year(filereader , score_data)\n",
    "    sorted_score = dict(sorted(score_data.items(), key=lambda item:item[1]))\n",
    "    print(sorted_score)\n",
    "    high_score_year = max(sorted_score, key=sorted_score.get)\n",
    "    print('high score:',high_score_year)"
   ]
  },
  {
   "cell_type": "code",
   "execution_count": null,
   "id": "6ef48c0f",
   "metadata": {},
   "outputs": [],
   "source": []
  }
 ],
 "metadata": {
  "kernelspec": {
   "display_name": "Python 3 (ipykernel)",
   "language": "python",
   "name": "python3"
  },
  "language_info": {
   "codemirror_mode": {
    "name": "ipython",
    "version": 3
   },
   "file_extension": ".py",
   "mimetype": "text/x-python",
   "name": "python",
   "nbconvert_exporter": "python",
   "pygments_lexer": "ipython3",
   "version": "3.9.7"
  }
 },
 "nbformat": 4,
 "nbformat_minor": 5
}
