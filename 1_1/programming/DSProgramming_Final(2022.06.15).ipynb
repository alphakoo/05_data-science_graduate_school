{
 "cells": [
  {
   "cell_type": "markdown",
   "metadata": {},
   "source": [
    "# ** 문제에 주어진 조건에 부합되도록 구현해야 점수가 부여됩니다.**"
   ]
  },
  {
   "cell_type": "markdown",
   "metadata": {},
   "source": [
    "# 1. examdata1.csv 파일로부터 아래의 정보를 획득하는 파이썬 프로그램을 작성하시오. (한 개의 프로그램으로 구현) (30점)\n",
    "## 1) Supplier X에서 가장 높은 부품 가격과 가장 낮은 부품 가격을 구함\n",
    "## 2) Supplier Y의 Invoice Number 별(50-9501, 50-9505) 평균 부품 가격을 구함\n",
    "## 3) 평균 부품 가격이 가장 높은 Supplier를 찾음"
   ]
  },
  {
   "cell_type": "code",
   "execution_count": 7,
   "metadata": {},
   "outputs": [],
   "source": [
    "import csv\n",
    "with open('c:\\Temp\\examdata1.csv', 'r') as csv_in_file:\n",
    "    file_reader = csv.reader(csv_in_file, delimiter=',')\n",
    "    header = next(file_reader)         \n"
   ]
  },
  {
   "cell_type": "markdown",
   "metadata": {},
   "source": [
    "# 2. examdata2.csv는 로버트 드니로의 연도별 출연작에 대한 데이터셋이다. 로버트 드니로의 영화가 한해에 최대 몇편까지 발표되었는지를 구하는 프로그램을 작성하시오. (20점)"
   ]
  },
  {
   "cell_type": "code",
   "execution_count": 8,
   "metadata": {},
   "outputs": [],
   "source": [
    "import csv\n",
    "with open('c:\\Temp\\examdata2.csv', 'r', newline='') as csv_in_file:\n",
    "    filereader = csv.reader(csv_in_file)\n",
    "    header = next(filereader)\n",
    "        "
   ]
  },
  {
   "cell_type": "markdown",
   "metadata": {},
   "source": [
    "# 3. examdata3.xls 데이터셋에서 아래의 정보를 획득하는 프로그램을 작성하시오. (20점) (한 개의 프로그램으로 구현)\n",
    "## 1) examdata3.xls파일에 있는 모든 워크시트들에서 Customer ID가 5000이하이고 Sale Amount가 $2,000이하인 행만 필터링함\n",
    "## 2) examdata3.xls파일에 있는 모든 워크시트들의 상품 판매에 대한 평균 가격을 출력함"
   ]
  },
  {
   "cell_type": "code",
   "execution_count": 17,
   "metadata": {},
   "outputs": [],
   "source": [
    "import sys\n",
    "from datetime import date\n",
    "from xlrd import open_workbook, xldate_as_tuple\n",
    "from xlwt import Workbook\n",
    "\n",
    "input_file = 'c:\\Temp\\examdata3.xls'\n",
    "output_file = 'c:\\Temp\\examsol3.xls'\n",
    "\n",
    "output_workbook = Workbook()\n",
    "output_worksheet = output_workbook.add_sheet('filtered')\n",
    "\n",
    "first_worksheet = True\n",
    "with open_workbook(input_file) as workbook:\n",
    "    data = []\n",
    "    for worksheet in workbook.sheets():\n",
    "        "
   ]
  },
  {
   "cell_type": "markdown",
   "metadata": {},
   "source": [
    "# 4. 아래의 Vehicle 클래스를 이용한 프로그램을 작성하시오. (30점)\n",
    "## 1) Vehicle 클래스에 대해 brand는 Hyundai, model은 Sonata로 하는 객체를 생성한 후,  해당 객체의 brand와 model 값을 출력하시오.\n",
    "## 2) Vehicle 클래스를 상속받는 ElectricVehicle 클래스를 정의하고, \"Fully charged\"라는 메시지를 출력할 수 있는 charge 메서드를 추가 구현한 후, ElectricVehicle 클래스에 대한 객체를 생성한 후, charge 메서드를 실행하는 프로그램을 작성하시오.\n",
    "## 3) Vehicle 클래스를 상속받는 ElectricVehicle 클래스에서 drive 메서드를 overriding하여 \"A car is stopped\"가 출력되도록 하시오."
   ]
  },
  {
   "cell_type": "code",
   "execution_count": 26,
   "metadata": {},
   "outputs": [],
   "source": [
    "class Vehicle:\n",
    "    def __init__(self, brand, model):\n",
    "        self.brand = brand\n",
    "        self.model = model\n",
    "\n",
    "    def drive(self):\n",
    "        print(' A car is driving fast.')"
   ]
  }
 ],
 "metadata": {
  "kernelspec": {
   "display_name": "Python 3",
   "language": "python",
   "name": "python3"
  },
  "language_info": {
   "codemirror_mode": {
    "name": "ipython",
    "version": 3
   },
   "file_extension": ".py",
   "mimetype": "text/x-python",
   "name": "python",
   "nbconvert_exporter": "python",
   "pygments_lexer": "ipython3",
   "version": "3.8.3"
  }
 },
 "nbformat": 4,
 "nbformat_minor": 4
}
